{
 "cells": [
  {
   "cell_type": "code",
   "execution_count": 6,
   "id": "4ae46c4d",
   "metadata": {},
   "outputs": [],
   "source": [
    "\n",
    "class SubfieIdsInAI():\n",
    "    def Subfields():\n",
    "        print(\"Sub-fields in AI are:\")\n",
    "        print(\"Machine Learning\")\n",
    "        print(\"Neural Networks\")\n",
    "        print(\"Vision\")\n",
    "        print(\"Robotics\")\n",
    "        print(\"Speech Processing\")\n",
    "        print(\"Natural Language Processing\")"
   ]
  },
  {
   "cell_type": "code",
   "execution_count": 8,
   "id": "35b9652e",
   "metadata": {
    "scrolled": true
   },
   "outputs": [
    {
     "name": "stdout",
     "output_type": "stream",
     "text": [
      "Sub-fields in AI are:\n",
      "Machine Learning\n",
      "Neural Networks\n",
      "Vision\n",
      "Robotics\n",
      "Speech Processing\n",
      "Natural Language Processing\n"
     ]
    }
   ],
   "source": [
    "SubfieIdsInAI.Subfields()"
   ]
  },
  {
   "cell_type": "code",
   "execution_count": 10,
   "id": "f30eb873",
   "metadata": {},
   "outputs": [
    {
     "name": "stdout",
     "output_type": "stream",
     "text": [
      "Enter a number:52452\n",
      "52452 is Even number\n"
     ]
    }
   ],
   "source": [
    "class OddEven():\n",
    "    \n",
    "    def OddEven():\n",
    "        num=int(input(\"Enter a number:\"))\n",
    "        if num%2==0:\n",
    "            print(num ,\"is Even number\")\n",
    "\n",
    "        else:\n",
    "            print(num ,\"is Odd number\")\n",
    "        \n",
    "    \n",
    "OddEven.OddEven()"
   ]
  },
  {
   "cell_type": "code",
   "execution_count": 13,
   "id": "341b8d58",
   "metadata": {},
   "outputs": [
    {
     "name": "stdout",
     "output_type": "stream",
     "text": [
      "Your Gender:Male\n",
      "your Age:18\n",
      "NOT ELIGIBLE\n"
     ]
    }
   ],
   "source": [
    "class EligiblityForMarriage():\n",
    "    \n",
    "\n",
    "    def Elegible():\n",
    "        gender=(input(\"Your Gender:\"))\n",
    "        age=int(input(\"your Age:\"))\n",
    "        if age<19:\n",
    "            print(\"NOT ELIGIBLE\")\n",
    "        else:\n",
    "            print(\"ELIGIBLE\")\n",
    "        \n",
    "EligiblityForMarriage.Elegible()"
   ]
  },
  {
   "cell_type": "code",
   "execution_count": 16,
   "id": "b1c7b53b",
   "metadata": {},
   "outputs": [
    {
     "name": "stdout",
     "output_type": "stream",
     "text": [
      "Subjec1:98\n",
      "Subjec2:87\n",
      "Subjec3:95\n",
      "Subjec4:95\n",
      "Subjec5:93\n",
      "Total: 468\n",
      "Percentage: 93.60000000000001\n"
     ]
    }
   ],
   "source": [
    "\n",
    "class FindPercent():\n",
    "\n",
    "    def percentage ():\n",
    "        A=int(input(\"Subjec1:\"))\n",
    "        B=int(input(\"Subjec2:\"))\n",
    "        C=int(input(\"Subjec3:\"))\n",
    "        D=int(input(\"Subjec4:\"))\n",
    "        E=int(input(\"Subjec5:\"))\n",
    "        num=A+B+C+D+E\n",
    "        print(\"Total:\",num)\n",
    "        X=(num/500)*100\n",
    "        print(\"Percentage:\",X)\n",
    "    \n",
    "\n",
    "FindPercent.percentage()"
   ]
  },
  {
   "cell_type": "code",
   "execution_count": 9,
   "id": "76780da6",
   "metadata": {},
   "outputs": [
    {
     "name": "stdout",
     "output_type": "stream",
     "text": [
      "Height:32\n",
      "Breadth:34\n",
      "Area formula: (Height*Breadth)/2\n",
      "Area of Triangle: 544.0\n",
      "Height1:2\n",
      "Height2:4\n",
      "Breadth:4\n",
      "Perimeter formula: Height1+Height2+Breadth\n",
      "Perimeter of Triangle: 10\n"
     ]
    }
   ],
   "source": [
    "class triangle():\n",
    "    \n",
    "       def triangle ():\n",
    "            A=int(input(\"Height:\"))\n",
    "            B=int(input(\"Breadth:\"))\n",
    "            print(\"Area formula: (Height*Breadth)/2\")\n",
    "            c=(A*B)\n",
    "            area=c/2\n",
    "            print(\"Area of Triangle:\",area)\n",
    "            D=int(input(\"Height1:\"))\n",
    "            E=int(input(\"Height2:\"))\n",
    "            F=int(input(\"Breadth:\"))\n",
    "            print(\"Perimeter formula: Height1+Height2+Breadth\")\n",
    "            tri=D+E+F\n",
    "            print(\"Perimeter of Triangle:\",tri)\n",
    "\n",
    "\n",
    "triangle.triangle ()"
   ]
  },
  {
   "cell_type": "code",
   "execution_count": null,
   "id": "d0161ba3",
   "metadata": {},
   "outputs": [],
   "source": []
  },
  {
   "cell_type": "code",
   "execution_count": null,
   "id": "ef3fc90b",
   "metadata": {},
   "outputs": [],
   "source": [
    "\n"
   ]
  },
  {
   "cell_type": "code",
   "execution_count": null,
   "id": "c403697f",
   "metadata": {},
   "outputs": [],
   "source": [
    "\n"
   ]
  },
  {
   "cell_type": "code",
   "execution_count": null,
   "id": "426f4bae",
   "metadata": {},
   "outputs": [],
   "source": [
    "\n"
   ]
  },
  {
   "cell_type": "code",
   "execution_count": null,
   "id": "7fff93ad",
   "metadata": {},
   "outputs": [],
   "source": []
  },
  {
   "cell_type": "code",
   "execution_count": null,
   "id": "922d07d7",
   "metadata": {},
   "outputs": [],
   "source": []
  },
  {
   "cell_type": "markdown",
   "id": "05173539",
   "metadata": {},
   "source": []
  }
 ],
 "metadata": {
  "kernelspec": {
   "display_name": "Python 3 (ipykernel)",
   "language": "python",
   "name": "python3"
  },
  "language_info": {
   "codemirror_mode": {
    "name": "ipython",
    "version": 3
   },
   "file_extension": ".py",
   "mimetype": "text/x-python",
   "name": "python",
   "nbconvert_exporter": "python",
   "pygments_lexer": "ipython3",
   "version": "3.9.12"
  }
 },
 "nbformat": 4,
 "nbformat_minor": 5
}
