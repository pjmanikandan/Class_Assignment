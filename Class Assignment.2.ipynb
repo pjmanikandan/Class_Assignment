{
 "cells": [
  {
   "cell_type": "code",
   "execution_count": 1,
   "id": "7fbaa8c8",
   "metadata": {},
   "outputs": [],
   "source": [
    "class mani1stFunction():\n",
    "\n",
    "    def Subfields():\n",
    "            print(\"Sub-fields in AI are:\")\n",
    "            print(\"Machine Learning\")\n",
    "            print(\"Neural Networks\")\n",
    "            print(\"Vision\")\n",
    "            print(\"Robotics\")\n",
    "            print(\"Speech Processing\")\n",
    "            print(\"Natural Language Processing\")\n",
    "\n",
    "\n",
    "    def OddEven():\n",
    "            num=int(input(\"Enter a number:\"))\n",
    "            if num%2==0:\n",
    "                print(num ,\"is Even number\")\n",
    "\n",
    "            else:\n",
    "                print(num ,\"is Odd number\")\n",
    "\n",
    "\n",
    "    def Elegible():\n",
    "            gender=(input(\"Your Gender:\"))\n",
    "            age=int(input(\"your Age:\"))\n",
    "            if age<19:\n",
    "                print(\"NOT ELIGIBLE\")\n",
    "            else:\n",
    "                print(\"ELIGIBLE\")\n",
    "\n",
    "\n",
    "    def percentage ():\n",
    "            A=int(input(\"Subjec1:\"))\n",
    "            B=int(input(\"Subjec2:\"))\n",
    "            C=int(input(\"Subjec3:\"))\n",
    "            D=int(input(\"Subjec4:\"))\n",
    "            E=int(input(\"Subjec5:\"))\n",
    "            num=A+B+C+D+E\n",
    "            print(\"Total:\",num)\n",
    "            X=(num/500)*100\n",
    "            print(\"Percentage:\",X)\n",
    "\n",
    "\n",
    "    def triangle ():\n",
    "                A=int(input(\"Height:\"))\n",
    "                B=int(input(\"Breadth:\"))\n",
    "                print(\"Area formula: (Height*Breadth)/2\")\n",
    "                c=(A*B)\n",
    "                area=c/2\n",
    "                print(\"Area of Triangle:\",area)\n",
    "                D=int(input(\"Height1:\"))\n",
    "                E=int(input(\"Height2:\"))\n",
    "                F=int(input(\"Breadth:\"))\n",
    "                print(\"Perimeter formula: Height1+Height2+Breadth\")\n",
    "                tri=D+E+F\n",
    "                print(\"Perimeter of Triangle:\",tri)\n",
    "    "
   ]
  },
  {
   "cell_type": "code",
   "execution_count": 2,
   "id": "6eaf8dbb",
   "metadata": {},
   "outputs": [
    {
     "name": "stdout",
     "output_type": "stream",
     "text": [
      "Height:32\n",
      "Breadth:34\n",
      "Area formula: (Height*Breadth)/2\n",
      "Area of Triangle: 544.0\n",
      "Height1:2\n",
      "Height2:4\n",
      "Breadth:4\n",
      "Perimeter formula: Height1+Height2+Breadth\n",
      "Perimeter of Triangle: 10\n"
     ]
    }
   ],
   "source": [
    "mani1stFunction.triangle()"
   ]
  },
  {
   "cell_type": "code",
   "execution_count": 3,
   "id": "af701ca6",
   "metadata": {},
   "outputs": [
    {
     "name": "stdout",
     "output_type": "stream",
     "text": [
      "Your Gender:Male\n",
      "your Age:18\n",
      "NOT ELIGIBLE\n"
     ]
    }
   ],
   "source": [
    "mani1stFunction.Elegible()"
   ]
  },
  {
   "cell_type": "code",
   "execution_count": 4,
   "id": "6b3ce2e2",
   "metadata": {},
   "outputs": [
    {
     "name": "stdout",
     "output_type": "stream",
     "text": [
      "Enter a number:4\n",
      "4 is Even number\n"
     ]
    }
   ],
   "source": [
    "mani1stFunction.OddEven()"
   ]
  },
  {
   "cell_type": "code",
   "execution_count": null,
   "id": "896712e0",
   "metadata": {},
   "outputs": [],
   "source": []
  }
 ],
 "metadata": {
  "kernelspec": {
   "display_name": "Python 3 (ipykernel)",
   "language": "python",
   "name": "python3"
  },
  "language_info": {
   "codemirror_mode": {
    "name": "ipython",
    "version": 3
   },
   "file_extension": ".py",
   "mimetype": "text/x-python",
   "name": "python",
   "nbconvert_exporter": "python",
   "pygments_lexer": "ipython3",
   "version": "3.9.12"
  }
 },
 "nbformat": 4,
 "nbformat_minor": 5
}
